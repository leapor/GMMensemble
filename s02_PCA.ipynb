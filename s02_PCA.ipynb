{
 "cells": [
  {
   "cell_type": "markdown",
   "id": "01defc8c",
   "metadata": {},
   "source": [
    "# EOF decomposition of the altimetry data\n",
    "- preparation for the Gaussian Mixture Model (GMM), which will be used to find regions of coherent sea level variability\n",
    "- separating the sea level data set into its spatial and temporal component using empirical orthogonal function decomposition (or principal component analysis)\n",
    "- **Input:**\n",
    "    - output from s01_Processing; monthly mean altimetry data set with interpolated small gaps and for the selected time span and removed seasonal cycle; sea level, longitude, latitude, and time, saved as separate .npy files\n",
    "- **Output:**\n",
    "    - **Data:** EOF maps (spatial component), principal component time series (temporal component), explained variance of each EOF/PC, longitude, latitude, and time, saved as separate .npy files; explained variance saved as a .csv file\n",
    "    - **Figures:** the first 12 EOF maps and PCs (3 figures with 4 EOF/PCs each)\n",
    "    - saved to s02_PCA\n",
    "\n",
    "- **Steps:**\n",
    "    - load the data\n",
    "    - PCA/EOF\n",
    "    - plot the PCs and EOF maps\n",
    "    - save the PCs, EOF maps, and explained variance\n",
    "    - calculate the total explained variance up to n-th PC and save it to a .csv file\n",
    "    \n",
    "Author: Lea Poropat <br>\n",
    "Last edited: 2023-12-07"
   ]
  },
  {
   "cell_type": "markdown",
   "id": "458fe8da",
   "metadata": {},
   "source": [
    "### <font color = \"red\">Parameters</font>"
   ]
  },
  {
   "cell_type": "code",
   "execution_count": 1,
   "id": "092151e9",
   "metadata": {},
   "outputs": [],
   "source": [
    "# region name\n",
    "reg = 'NWeuropeSeas'\n",
    "\n",
    "# time span\n",
    "y1 = 1995\n",
    "y2 = 2021\n",
    "\n",
    "# input file (it also needs the file name ending for data, Lon, and Lat)\n",
    "filein='../Data/s01_Processed/altimetry_M_' + str(y1) + '_' + str(y2) + '_' + reg + '_'\n",
    "\n",
    "# output files\n",
    "fileout = r'../Data/s02_PCA/' + reg + '_' + str(y1) + '-' + str(y2) + '_'\n",
    "figs = r'../Figures/s02_PCA/' + reg + '_' + str(y1) + '-' + str(y2) + '_'\n",
    "expvarfile = r'../Data/s02_PCA/' + reg + '_' + str(y1) + '-' + str(y2) + '_explained_variance.csv'"
   ]
  },
  {
   "cell_type": "markdown",
   "id": "5f45f4c3",
   "metadata": {},
   "source": [
    "### Import the libraries"
   ]
  },
  {
   "cell_type": "code",
   "execution_count": 2,
   "id": "cc698e84",
   "metadata": {},
   "outputs": [],
   "source": [
    "import numpy as np\n",
    "import pandas as pd\n",
    "import netCDF4 as nc\n",
    "import matplotlib.pyplot as plt\n",
    "import matplotlib.cm as cm\n",
    "from scipy.io import savemat\n",
    "import eofs.standard as es\n",
    "from random import randint"
   ]
  },
  {
   "cell_type": "markdown",
   "id": "9737afa3",
   "metadata": {},
   "source": [
    "### Loading the data"
   ]
  },
  {
   "cell_type": "code",
   "execution_count": 3,
   "id": "a4efbd34",
   "metadata": {},
   "outputs": [],
   "source": [
    "# loading the data\n",
    "x = np.load(filein + 'interpolated_deseasoned.npy')\n",
    "Lon = np.load(filein + 'Lon.npy')\n",
    "Lat = np.load(filein + 'Lat.npy')\n",
    "t = np.load(filein + 'time.npy')\n",
    "\n",
    "nt, nlat, nlon = np.shape(x)"
   ]
  },
  {
   "cell_type": "markdown",
   "id": "8a124e2f",
   "metadata": {},
   "source": [
    "### PCA"
   ]
  },
  {
   "cell_type": "code",
   "execution_count": 4,
   "id": "1616f965",
   "metadata": {},
   "outputs": [],
   "source": [
    "solver = es.Eof(x)\n",
    "eof_maps = solver.eofs()\n",
    "PCs = solver.pcs(npcs = nt-1)   # columns are ordered Pcs; using nt-1 to easier remember what are rows and what columns\n",
    "exp_var = solver.varianceFraction()"
   ]
  },
  {
   "cell_type": "markdown",
   "id": "82afec5a",
   "metadata": {},
   "source": [
    "### Plotting"
   ]
  },
  {
   "cell_type": "code",
   "execution_count": 5,
   "id": "e259627b",
   "metadata": {},
   "outputs": [],
   "source": [
    "year = np.floor(t)"
   ]
  },
  {
   "cell_type": "code",
   "execution_count": 6,
   "id": "953935ee",
   "metadata": {
    "scrolled": false
   },
   "outputs": [],
   "source": [
    "# plotting the first 8 PCs\n",
    "nfigs = 3\n",
    "nrow = 4\n",
    "plt.rcParams['figure.figsize'] = [18, 12]\n",
    "\n",
    "pc = 0\n",
    "for i in range(nfigs):\n",
    "    fig, ax = plt.subplots(nrow, 2, sharex = 'none', gridspec_kw={'width_ratios': [3, 1]})\n",
    "    for j in range(nrow):\n",
    "        # calculating the total explained variance by this and previous PCs\n",
    "        vartot = sum(exp_var[:pc+1])\n",
    "        \n",
    "        # principal component\n",
    "        im0 = ax[j][0].plot(t, PCs[:, pc])\n",
    "        ax[j][0].set_xlim(t[0], t[-1])\n",
    "        #ax[j][0].set_xticks(ticks = year)\n",
    "        ax[j][0].text(0.98, 0.98, str(round(exp_var[pc]*100, 2))+' %' , ha='right', va='top', transform=ax[j][0].transAxes, fontsize = 20)\n",
    "        ax[j][0].text(0.98, 0.02, 'Tot: '+ str(round(vartot*100, 2))+' %', ha = 'right', va = 'bottom', transform=ax[j][0].transAxes, fontsize = 20)\n",
    "        ax[j][0].grid('on')\n",
    "        \n",
    "        # EOF map\n",
    "        im1 = ax[j][1].pcolormesh(Lon,Lat,eof_maps[pc, :, :], shading = 'nearest')\n",
    "        ax[j][1].text(0.02, 0.98, str(pc+1), ha='left', va='top', transform=ax[j][1].transAxes, fontsize = 20)\n",
    "        plt.colorbar(im1, ax = ax[j][1])\n",
    "        pc = pc + 1\n",
    "    fig.savefig(figs + 'PCs' + str(i) + '.png')\n",
    "    plt.close()"
   ]
  },
  {
   "cell_type": "markdown",
   "id": "b42652b3",
   "metadata": {},
   "source": [
    "### Saving the new dataset"
   ]
  },
  {
   "cell_type": "code",
   "execution_count": 7,
   "id": "fec684ba",
   "metadata": {},
   "outputs": [],
   "source": [
    "# results of the PCA\n",
    "np.save(fileout + 'exp_var.npy', exp_var, allow_pickle = False)\n",
    "np.save(fileout + 'PCs.npy', PCs, allow_pickle = False)\n",
    "np.save(fileout + 'eof_maps.npy', eof_maps, allow_pickle = False) # in grid format\n",
    "\n",
    "# longitude, latitude and time\n",
    "np.save(fileout + 'Lon.npy', Lon, allow_pickle = False)\n",
    "np.save(fileout + 'Lat.npy', Lat, allow_pickle = False)\n",
    "np.save(fileout + 'time.npy', t, allow_pickle = False)\n",
    "\n",
    "# results of the PCA and coordinates for matlab\n",
    "savemat(fileout + 'PCs.mat', dict(Lon = Lon, Lat = Lat, t = t, PCs = PCs, eof_maps = eof_maps, exp_var = exp_var))"
   ]
  },
  {
   "cell_type": "markdown",
   "id": "8ef2966c",
   "metadata": {},
   "source": [
    "### Percentage of variance per PC"
   ]
  },
  {
   "cell_type": "code",
   "execution_count": 8,
   "id": "3bd86793",
   "metadata": {
    "scrolled": false
   },
   "outputs": [
    {
     "data": {
      "text/html": [
       "<div>\n",
       "<style scoped>\n",
       "    .dataframe tbody tr th:only-of-type {\n",
       "        vertical-align: middle;\n",
       "    }\n",
       "\n",
       "    .dataframe tbody tr th {\n",
       "        vertical-align: top;\n",
       "    }\n",
       "\n",
       "    .dataframe thead th {\n",
       "        text-align: right;\n",
       "    }\n",
       "</style>\n",
       "<table border=\"1\" class=\"dataframe\">\n",
       "  <thead>\n",
       "    <tr style=\"text-align: right;\">\n",
       "      <th></th>\n",
       "      <th>PC</th>\n",
       "      <th>Exp_var</th>\n",
       "      <th>Exp_var_tot</th>\n",
       "    </tr>\n",
       "  </thead>\n",
       "  <tbody>\n",
       "    <tr>\n",
       "      <th>0</th>\n",
       "      <td>1</td>\n",
       "      <td>52.009716</td>\n",
       "      <td>52.009716</td>\n",
       "    </tr>\n",
       "    <tr>\n",
       "      <th>1</th>\n",
       "      <td>2</td>\n",
       "      <td>18.731792</td>\n",
       "      <td>70.741509</td>\n",
       "    </tr>\n",
       "    <tr>\n",
       "      <th>2</th>\n",
       "      <td>3</td>\n",
       "      <td>4.973238</td>\n",
       "      <td>75.714747</td>\n",
       "    </tr>\n",
       "    <tr>\n",
       "      <th>3</th>\n",
       "      <td>4</td>\n",
       "      <td>3.047970</td>\n",
       "      <td>78.762716</td>\n",
       "    </tr>\n",
       "    <tr>\n",
       "      <th>4</th>\n",
       "      <td>5</td>\n",
       "      <td>1.290898</td>\n",
       "      <td>80.053614</td>\n",
       "    </tr>\n",
       "    <tr>\n",
       "      <th>5</th>\n",
       "      <td>6</td>\n",
       "      <td>1.080096</td>\n",
       "      <td>81.133710</td>\n",
       "    </tr>\n",
       "    <tr>\n",
       "      <th>6</th>\n",
       "      <td>7</td>\n",
       "      <td>1.044656</td>\n",
       "      <td>82.178366</td>\n",
       "    </tr>\n",
       "    <tr>\n",
       "      <th>7</th>\n",
       "      <td>8</td>\n",
       "      <td>0.878597</td>\n",
       "      <td>83.056963</td>\n",
       "    </tr>\n",
       "    <tr>\n",
       "      <th>8</th>\n",
       "      <td>9</td>\n",
       "      <td>0.592732</td>\n",
       "      <td>83.649695</td>\n",
       "    </tr>\n",
       "    <tr>\n",
       "      <th>9</th>\n",
       "      <td>10</td>\n",
       "      <td>0.561415</td>\n",
       "      <td>84.211110</td>\n",
       "    </tr>\n",
       "    <tr>\n",
       "      <th>10</th>\n",
       "      <td>11</td>\n",
       "      <td>0.434266</td>\n",
       "      <td>84.645376</td>\n",
       "    </tr>\n",
       "    <tr>\n",
       "      <th>11</th>\n",
       "      <td>12</td>\n",
       "      <td>0.412468</td>\n",
       "      <td>85.057844</td>\n",
       "    </tr>\n",
       "    <tr>\n",
       "      <th>12</th>\n",
       "      <td>13</td>\n",
       "      <td>0.361912</td>\n",
       "      <td>85.419756</td>\n",
       "    </tr>\n",
       "    <tr>\n",
       "      <th>13</th>\n",
       "      <td>14</td>\n",
       "      <td>0.336688</td>\n",
       "      <td>85.756444</td>\n",
       "    </tr>\n",
       "    <tr>\n",
       "      <th>14</th>\n",
       "      <td>15</td>\n",
       "      <td>0.303711</td>\n",
       "      <td>86.060155</td>\n",
       "    </tr>\n",
       "  </tbody>\n",
       "</table>\n",
       "</div>"
      ],
      "text/plain": [
       "    PC    Exp_var  Exp_var_tot\n",
       "0    1  52.009716    52.009716\n",
       "1    2  18.731792    70.741509\n",
       "2    3   4.973238    75.714747\n",
       "3    4   3.047970    78.762716\n",
       "4    5   1.290898    80.053614\n",
       "5    6   1.080096    81.133710\n",
       "6    7   1.044656    82.178366\n",
       "7    8   0.878597    83.056963\n",
       "8    9   0.592732    83.649695\n",
       "9   10   0.561415    84.211110\n",
       "10  11   0.434266    84.645376\n",
       "11  12   0.412468    85.057844\n",
       "12  13   0.361912    85.419756\n",
       "13  14   0.336688    85.756444\n",
       "14  15   0.303711    86.060155"
      ]
     },
     "execution_count": 8,
     "metadata": {},
     "output_type": "execute_result"
    }
   ],
   "source": [
    "# calculate total variance explained by n-th PC\n",
    "vartot = np.empty((len(exp_var)))\n",
    "for i in range(len(exp_var)):\n",
    "    vartot[i] = sum(exp_var[:i+1])\n",
    "    \n",
    "# convert that into a dataframe and save into csv\n",
    "pc = np.arange(1, nt+1)\n",
    "explained_variance = pd.DataFrame({'PC': pc, 'Exp_var': exp_var*100, 'Exp_var_tot': vartot*100})\n",
    "explained_variance.to_csv(expvarfile, index = False, float_format = '%5.2f')\n",
    "\n",
    "# print the info for the first 15 PCs\n",
    "explained_variance.head(15)"
   ]
  },
  {
   "cell_type": "code",
   "execution_count": null,
   "id": "4518fa0a",
   "metadata": {},
   "outputs": [],
   "source": []
  }
 ],
 "metadata": {
  "kernelspec": {
   "display_name": "Python 3 (ipykernel)",
   "language": "python",
   "name": "python3"
  },
  "language_info": {
   "codemirror_mode": {
    "name": "ipython",
    "version": 3
   },
   "file_extension": ".py",
   "mimetype": "text/x-python",
   "name": "python",
   "nbconvert_exporter": "python",
   "pygments_lexer": "ipython3",
   "version": "3.8.18"
  }
 },
 "nbformat": 4,
 "nbformat_minor": 5
}
