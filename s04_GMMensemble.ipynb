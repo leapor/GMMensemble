{
 "cells": [
  {
   "cell_type": "markdown",
   "id": "617de6d0",
   "metadata": {},
   "source": [
    "# GMM ensemble\n",
    "\n",
    "Using an ensemble of Gaussian Mixture Models (GMMs) to find the regions of similar sea level variability. In voting the posteriori probability given by each GMM is taken into account as weights for voting. There is a limitation to the size of the classes, to avoid having classes with only a few grid points. Results are saved into NetCDF files, and class means from individual models are saved into a .npy file.\n",
    "- **Input:**\n",
    "    - output from s02_PCA; EOF maps (spatial component), longitude, and latitude, saved as separate .npy files\n",
    "- **Output:**\n",
    "    - **Data:** NetCDF4 and .mat files\n",
    "        - [expname]_t[n].nc - contains gridded classification, likelihood and training/test set mask (where test set is 0 and training set is 1)\n",
    "        - [expname]_t[n]_individual.nc - contains the results from all individual models; gridded classification, probability and training/test set mask\n",
    "        - [expname]_t[n]_class_means.npy - contains class means from individual GMMs (K x D x N)\n",
    "    - **Figures:** classification and likelihood, classification and probability for the first 10 models (no projection, longitude is treated as x and latitude as y)\n",
    "- **Steps:**\n",
    "    - create model name\n",
    "    - load the data, reshape it and remove the empty (land) grid points\n",
    "    - splitting the data into training and test set\n",
    "    - ensemble:\n",
    "        - fit a GMM with the training set\n",
    "        - evaluate on both the training and the test set\n",
    "        - combine the training and test set again\n",
    "    - match the classes from individual models based on class means\n",
    "    - soft voting (voting based on the probability for each class) for each grid point; dropping the small classes and reassigning the grid points to the class with the next highest vote\n",
    "    - dropping the empty classes\n",
    "    - reshaping the results back to grids\n",
    "    - saving the results\n",
    "    - plotting the ensemble classification\n",
    "    - plotting the individual models (first 10 only)\n",
    "- name of the experiment is determined from the region, time span and the hyperparameters of the ensemble:\n",
    "- the parameter overwrite = True allows to overwrite the last model output instead of creating a new folder for it (in case the script previously failed)\n",
    "\n",
    "Author: Lea Poropat <br>\n",
    "Last edited: 2023-12-11"
   ]
  },
  {
   "cell_type": "markdown",
   "id": "cac85de6",
   "metadata": {},
   "source": [
    "### <font color = \"red\">Parameters</font>"
   ]
  },
  {
   "cell_type": "code",
   "execution_count": 1,
   "id": "3228b9bb",
   "metadata": {},
   "outputs": [],
   "source": [
    "# region\n",
    "reg = 'NWeuropeSeas'\n",
    "\n",
    "# time span\n",
    "y1 = 1995\n",
    "y2 = 2021\n",
    "\n",
    "# number of PCs used\n",
    "nPC = 3\n",
    "\n",
    "# number of classes in the GMM\n",
    "K = 4\n",
    "\n",
    "# file names\n",
    "pth = r'../Data/s02_PCA/' + reg + '_' + str(y1) + '-' + str(y2) + '_'\n",
    "fleof = pth + 'eof_maps.npy'\n",
    "fllon = pth + 'Lon.npy'\n",
    "fllat = pth + 'Lat.npy'\n",
    "flev = pth + 'exp_var.npy'\n",
    "\n",
    "# percent of training set\n",
    "train_size = 0.9\n",
    "\n",
    "# correlation cutoff\n",
    "corrlim = 0.98\n",
    "\n",
    "# minimal allowed class size (number of gridpoints in combined train and test set)\n",
    "minsize = 100\n",
    "\n",
    "# number of ensemble members (needs to be 200!)\n",
    "N = 200\n",
    "\n",
    "# overwrite the last model run?\n",
    "overwrite = False\n",
    "\n",
    "# model name (experiment number will be appended later)\n",
    "modelname = reg + '_' + str(y1) + '-' + str(y2) + '_PCs' + str(nPC) + \\\n",
    "    '_K' + str(K) + \\\n",
    "    '_tr' + str(int(train_size*100)) + \\\n",
    "    '_r' + str(int(corrlim*100)).zfill(2) + \\\n",
    "    '_gp' + str(minsize) + \\\n",
    "    '_N' + str(N) + \\\n",
    "    '_t'\n",
    "\n",
    "# results\n",
    "res = r'../Data/s04_ClassificationResults/'\n",
    "\n",
    "# figures\n",
    "figens = r'../Figures/s04_ClassificationResults/'\n",
    "figind = r'../Figures/s04_GMMindividualModels/'"
   ]
  },
  {
   "cell_type": "markdown",
   "id": "abe2deeb",
   "metadata": {},
   "source": [
    "### Loading the libraries"
   ]
  },
  {
   "cell_type": "code",
   "execution_count": 2,
   "id": "35c69d9d",
   "metadata": {},
   "outputs": [],
   "source": [
    "import os\n",
    "import shutil\n",
    "import numpy as np\n",
    "import pandas as pd\n",
    "import xarray as xr\n",
    "from sklearn.model_selection import train_test_split\n",
    "from sklearn.preprocessing import StandardScaler\n",
    "from sklearn.mixture import GaussianMixture\n",
    "import matplotlib.pyplot as plt\n",
    "from matplotlib.colors import ListedColormap\n",
    "import matplotlib.cm as cm\n",
    "import matplotlib as mpl\n",
    "from scipy.stats import pearsonr\n",
    "import scipy.io\n",
    "import time"
   ]
  },
  {
   "cell_type": "code",
   "execution_count": 3,
   "id": "a340f8ba",
   "metadata": {},
   "outputs": [],
   "source": [
    "# timing starts here\n",
    "starttime = time.time()"
   ]
  },
  {
   "cell_type": "markdown",
   "id": "dfc0cb2a",
   "metadata": {},
   "source": [
    "### Model name\n",
    "Model name is based on the parameters of the ensemble. It also includes a version number, in case of multiple ensemble runs. Version number is detected automatically from the existence of the figure with the results. If overwrite is set to True it will overwrite the last results."
   ]
  },
  {
   "cell_type": "code",
   "execution_count": 4,
   "id": "df109cde",
   "metadata": {},
   "outputs": [
    {
     "name": "stdout",
     "output_type": "stream",
     "text": [
      "Model: NWeuropeSeas_1995-2021_PCs3_K4_tr90_r98_gp100_N200_t2\n"
     ]
    }
   ],
   "source": [
    "t = 1\n",
    "while True:\n",
    "    if (os.path.exists(figens + modelname + str(t) + '.png') == False):\n",
    "        # looping until a try that doesn't exist is found (can be try 1 as well)\n",
    "        \n",
    "        if (overwrite == True and t > 1):\n",
    "            # if the experiment replaces the last previous one, then the experiment number is one less than current t\n",
    "            modelname = modelname + str(t-1)\n",
    "            print('Model: %s' % modelname)\n",
    "            t = t-1\n",
    "        else:\n",
    "            # if the experiment has a new number (either because overwrite = False or because there are no previous\n",
    "            # experiments at all) the model number is the current t\n",
    "            modelname = modelname + str(t)\n",
    "            print('Model: %s' % modelname)\n",
    "        # exiting the loop\n",
    "        break\n",
    "        \n",
    "    # updating t\n",
    "    t = t + 1"
   ]
  },
  {
   "cell_type": "markdown",
   "id": "902d7c7d",
   "metadata": {},
   "source": [
    "### Loading and reshaping data + removing empty grid points"
   ]
  },
  {
   "cell_type": "code",
   "execution_count": 5,
   "id": "64ca804a",
   "metadata": {},
   "outputs": [
    {
     "name": "stdout",
     "output_type": "stream",
     "text": [
      "Land grid points and grid points with missing data removed!\n",
      "Shape of the dataset after removing empty points: (10354, 324)\n"
     ]
    }
   ],
   "source": [
    "# loading the data\n",
    "X0 = np.load(fleof)\n",
    "Lon0 = np.load(fllon)\n",
    "Lat0 = np.load(fllat)\n",
    "expvar = np.load(flev)\n",
    "nlat, nlon = np.shape(Lon0)\n",
    "\n",
    "# 1D longitude and latitude\n",
    "lon = Lon0[0, :]\n",
    "lat = Lat0[:, 0]\n",
    "\n",
    "# reshape to 2D\n",
    "X1 = np.reshape(X0,(len(X0),-1),'C').transpose()\n",
    "Lon1 = np.reshape(Lon0, -1, 'C').transpose()\n",
    "Lat1 = np.reshape(Lat0, -1, 'C').transpose()\n",
    "\n",
    "# remove land and empty grid points\n",
    "ind_ocean = np.squeeze(np.nonzero(np.squeeze(~np.all(np.isnan(X1), axis = 1))))\n",
    "X2 = X1[ind_ocean, :]\n",
    "Lon2 = Lon1[ind_ocean]\n",
    "Lat2 = Lat1[ind_ocean]\n",
    "\n",
    "# check if there are any gaps in the dataset\n",
    "gaps = np.argwhere(np.any(np.isnan(X2), axis = 1))\n",
    "gaps = np.squeeze(gaps)\n",
    "\n",
    "# printing the summary\n",
    "if len(gaps)==0:\n",
    "    print('Land grid points and grid points with missing data removed!')\n",
    "else:\n",
    "    print('There are still gaps in the data!')\n",
    "print('Shape of the dataset after removing empty points: %s' % str(np.shape(X2)))"
   ]
  },
  {
   "cell_type": "markdown",
   "id": "d606bfea",
   "metadata": {},
   "source": [
    "### Selecting the principal components that will be used"
   ]
  },
  {
   "cell_type": "code",
   "execution_count": 6,
   "id": "07e38341",
   "metadata": {},
   "outputs": [],
   "source": [
    "X = X2[:, :nPC]"
   ]
  },
  {
   "cell_type": "markdown",
   "id": "ebf79aa4",
   "metadata": {},
   "source": [
    "### Train-test set split"
   ]
  },
  {
   "cell_type": "code",
   "execution_count": 7,
   "id": "63c4ff47",
   "metadata": {},
   "outputs": [],
   "source": [
    "# all ensemble members will use the same training set\n",
    "ind = np.array(range(0, len(X)))\n",
    "\n",
    "Xtr, Xte, Lontr, Lonte, Lattr, Latte, indtr, indte = train_test_split(X, Lon2, Lat2, ind, train_size = train_size)\n",
    "ntr = np.shape(Xtr)[0]\n",
    "nte = np.shape(Xte)[0]\n",
    "\n",
    "# training vs test set mask (training = 1, test = 0)\n",
    "training_mask = np.zeros(np.shape(ind))\n",
    "training_mask[indtr] = 1"
   ]
  },
  {
   "cell_type": "markdown",
   "id": "aab7d956",
   "metadata": {},
   "source": [
    "### GMM"
   ]
  },
  {
   "cell_type": "code",
   "execution_count": 8,
   "id": "0b9ab82f",
   "metadata": {
    "scrolled": false
   },
   "outputs": [
    {
     "name": "stdout",
     "output_type": "stream",
     "text": [
      " 200  199  198  197  196  195  194  193  192  191  190  189  188  187  186  185  184  183  182  181  180  179  178  177  176\n",
      " 175  174  173  172  171  170  169  168  167  166  165  164  163  162  161  160  159  158  157  156  155  154  153  152  151\n",
      " 150  149  148  147  146  145  144  143  142  141  140  139  138  137  136  135  134  133  132  131  130  129  128  127  126\n",
      " 125  124  123  122  121  120  119  118  117  116  115  114  113  112  111  110  109  108  107  106  105  104  103  102  101\n",
      " 100   99   98   97   96   95   94   93   92   91   90   89   88   87   86   85   84   83   82   81   80   79   78   77   76\n",
      "  75   74   73   72   71   70   69   68   67   66   65   64   63   62   61   60   59   58   57   56   55   54   53   52   51\n",
      "  50   49   48   47   46   45   44   43   42   41   40   39   38   37   36   35   34   33   32   31   30   29   28   27   26\n",
      "  25   24   23   22   21   20   19   18   17   16   15   14   13   12   11   10    9    8    7    6    5    4    3    2    1\n",
      "Execution time: 44.476327896118164 seconds\n"
     ]
    }
   ],
   "source": [
    "# timing of GMMs only starts here\n",
    "starttime2 = time.time()\n",
    "\n",
    "# creating the results matrices\n",
    "y = np.empty((ntr+nte, N), dtype = np.int16)\n",
    "proba = np.empty((ntr+nte, N))\n",
    "class_means = np.empty((K, nPC, N))\n",
    "\n",
    "for i in range(N):\n",
    "    # creating the model\n",
    "    gmm = GaussianMixture(n_components = K, covariance_type = 'full', tol = 1e-3, \\\n",
    "                          max_iter = 200, n_init = 3, init_params = 'kmeans', verbose = 0)\n",
    "    \n",
    "    # fitting the model\n",
    "    gmm.fit(Xtr)\n",
    "    \n",
    "    # predicting the class for each grid point\n",
    "    ytr = gmm.predict(Xtr)\n",
    "    yte = gmm.predict(Xte)\n",
    "    \n",
    "    # predicting the probability for each point\n",
    "    temp = gmm.predict_proba(Xtr)\n",
    "    probatr = np.amax(temp, axis = 1)\n",
    "    temp = gmm.predict_proba(Xte)\n",
    "    probate = np.amax(temp, axis = 1)\n",
    "    \n",
    "    # saving the class means\n",
    "    class_means[:, :, i] = gmm.means_\n",
    "    \n",
    "    # combining the train and test set again\n",
    "    y[indtr, i] = ytr\n",
    "    y[indte, i] = yte\n",
    "    proba[indtr, i] = probatr\n",
    "    proba[indte, i] = probate\n",
    "    \n",
    "    # printing the ensemble number\n",
    "    if ((N-i-1) % 25 == 0):\n",
    "        print('%4i' % (N-i))\n",
    "    else:\n",
    "        print('%4i' % (N-i), end = ' ')\n",
    "        \n",
    "# timing of GMMs only ends here (does not account for longer ensemble class matching)\n",
    "print('Execution time: %s seconds' % (time.time() - starttime2))"
   ]
  },
  {
   "cell_type": "markdown",
   "id": "684ae524",
   "metadata": {},
   "source": [
    "### Combining the results from the ensemble"
   ]
  },
  {
   "cell_type": "code",
   "execution_count": 9,
   "id": "d410cad8",
   "metadata": {},
   "outputs": [],
   "source": [
    "def getSizeOfNestedList(listOfElem):\n",
    "    ''' Get number of elements in a nested list'''\n",
    "    count = 0\n",
    "    # Iterate over the list\n",
    "    for elem in listOfElem:\n",
    "        # Check if type of element is list\n",
    "        if type(elem) == list:  \n",
    "            # Again call this function to get the size of this element\n",
    "            count += getSizeOfNestedList(elem)\n",
    "        else:\n",
    "            count += 1    \n",
    "    return count"
   ]
  },
  {
   "cell_type": "code",
   "execution_count": 10,
   "id": "bef3320b",
   "metadata": {},
   "outputs": [],
   "source": [
    "# finding the list of all classes that appear in any of the models (classes with corr >= corrlim are considered same)\n",
    "# the first N classes are from the 1st ensemble member\n",
    "classes_all = np.expand_dims(class_means[0, :, 0], 0)\n",
    "classes_matching = np.empty((K, N), dtype = np.int64)\n",
    "classes_matching[0, 0] = 0\n",
    "class_means_new = np.expand_dims(class_means[0, :, 0], (0, 1)).tolist()\n",
    "\n",
    "num = getSizeOfNestedList(class_means_new)\n",
    "\n",
    "# comparing the class means from the other ensemble members with the growing list of separate classes\n",
    "for i in range(0, N):\n",
    "    for j in range(K):\n",
    "        \n",
    "        if ((i == 0) and (j == 0)):\n",
    "            continue\n",
    "        \n",
    "        r = np.empty((np.shape(classes_all)[0]))\n",
    "        \n",
    "        for k in range(len(r)):\n",
    "            r[k] = pearsonr(class_means[j, :, i], classes_all[k, :])[0]\n",
    "            \n",
    "            \n",
    "        if (np.amax(r) >= corrlim):\n",
    "            temp = np.argmax(r)\n",
    "            classes_matching[j, i] = temp\n",
    "            class_means_new[temp].append(class_means[j, :, i].tolist())\n",
    "        else:\n",
    "            classes_all = np.concatenate((classes_all, np.reshape(class_means[j, :, i], (1, nPC))))\n",
    "            classes_matching[j, i] = np.shape(classes_all)[0]-1\n",
    "            class_means_new.append(np.expand_dims(class_means[j, :, i], 0).tolist())\n",
    "    \n",
    "    # finding and printing the number of class means after each ensemble member is sorted\n",
    "    temp = num\n",
    "    num = getSizeOfNestedList(class_means_new)\n",
    "            \n",
    "tot_class_num = np.shape(classes_all)[0]"
   ]
  },
  {
   "cell_type": "code",
   "execution_count": 11,
   "id": "1e5e9142",
   "metadata": {},
   "outputs": [
    {
     "data": {
      "text/html": [
       "<div>\n",
       "<style scoped>\n",
       "    .dataframe tbody tr th:only-of-type {\n",
       "        vertical-align: middle;\n",
       "    }\n",
       "\n",
       "    .dataframe tbody tr th {\n",
       "        vertical-align: top;\n",
       "    }\n",
       "\n",
       "    .dataframe thead th {\n",
       "        text-align: right;\n",
       "    }\n",
       "</style>\n",
       "<table border=\"1\" class=\"dataframe\">\n",
       "  <thead>\n",
       "    <tr style=\"text-align: right;\">\n",
       "      <th></th>\n",
       "      <th>0</th>\n",
       "      <th>1</th>\n",
       "      <th>2</th>\n",
       "      <th>3</th>\n",
       "      <th>4</th>\n",
       "      <th>5</th>\n",
       "      <th>6</th>\n",
       "      <th>7</th>\n",
       "      <th>8</th>\n",
       "      <th>9</th>\n",
       "      <th>...</th>\n",
       "      <th>190</th>\n",
       "      <th>191</th>\n",
       "      <th>192</th>\n",
       "      <th>193</th>\n",
       "      <th>194</th>\n",
       "      <th>195</th>\n",
       "      <th>196</th>\n",
       "      <th>197</th>\n",
       "      <th>198</th>\n",
       "      <th>199</th>\n",
       "    </tr>\n",
       "  </thead>\n",
       "  <tbody>\n",
       "    <tr>\n",
       "      <th>0</th>\n",
       "      <td>0</td>\n",
       "      <td>3</td>\n",
       "      <td>3</td>\n",
       "      <td>1</td>\n",
       "      <td>1</td>\n",
       "      <td>0</td>\n",
       "      <td>0</td>\n",
       "      <td>1</td>\n",
       "      <td>1</td>\n",
       "      <td>0</td>\n",
       "      <td>...</td>\n",
       "      <td>2</td>\n",
       "      <td>1</td>\n",
       "      <td>1</td>\n",
       "      <td>1</td>\n",
       "      <td>0</td>\n",
       "      <td>1</td>\n",
       "      <td>2</td>\n",
       "      <td>0</td>\n",
       "      <td>2</td>\n",
       "      <td>1</td>\n",
       "    </tr>\n",
       "    <tr>\n",
       "      <th>1</th>\n",
       "      <td>1</td>\n",
       "      <td>1</td>\n",
       "      <td>2</td>\n",
       "      <td>0</td>\n",
       "      <td>2</td>\n",
       "      <td>3</td>\n",
       "      <td>3</td>\n",
       "      <td>3</td>\n",
       "      <td>3</td>\n",
       "      <td>2</td>\n",
       "      <td>...</td>\n",
       "      <td>1</td>\n",
       "      <td>3</td>\n",
       "      <td>2</td>\n",
       "      <td>2</td>\n",
       "      <td>3</td>\n",
       "      <td>2</td>\n",
       "      <td>1</td>\n",
       "      <td>3</td>\n",
       "      <td>1</td>\n",
       "      <td>2</td>\n",
       "    </tr>\n",
       "    <tr>\n",
       "      <th>2</th>\n",
       "      <td>2</td>\n",
       "      <td>2</td>\n",
       "      <td>1</td>\n",
       "      <td>2</td>\n",
       "      <td>0</td>\n",
       "      <td>1</td>\n",
       "      <td>1</td>\n",
       "      <td>0</td>\n",
       "      <td>2</td>\n",
       "      <td>1</td>\n",
       "      <td>...</td>\n",
       "      <td>3</td>\n",
       "      <td>0</td>\n",
       "      <td>0</td>\n",
       "      <td>0</td>\n",
       "      <td>1</td>\n",
       "      <td>0</td>\n",
       "      <td>0</td>\n",
       "      <td>1</td>\n",
       "      <td>0</td>\n",
       "      <td>0</td>\n",
       "    </tr>\n",
       "    <tr>\n",
       "      <th>3</th>\n",
       "      <td>3</td>\n",
       "      <td>0</td>\n",
       "      <td>0</td>\n",
       "      <td>3</td>\n",
       "      <td>3</td>\n",
       "      <td>2</td>\n",
       "      <td>2</td>\n",
       "      <td>2</td>\n",
       "      <td>0</td>\n",
       "      <td>3</td>\n",
       "      <td>...</td>\n",
       "      <td>0</td>\n",
       "      <td>2</td>\n",
       "      <td>3</td>\n",
       "      <td>3</td>\n",
       "      <td>2</td>\n",
       "      <td>3</td>\n",
       "      <td>3</td>\n",
       "      <td>2</td>\n",
       "      <td>3</td>\n",
       "      <td>3</td>\n",
       "    </tr>\n",
       "  </tbody>\n",
       "</table>\n",
       "<p>4 rows × 200 columns</p>\n",
       "</div>"
      ],
      "text/plain": [
       "   0    1    2    3    4    5    6    7    8    9    ...  190  191  192  193  \\\n",
       "0    0    3    3    1    1    0    0    1    1    0  ...    2    1    1    1   \n",
       "1    1    1    2    0    2    3    3    3    3    2  ...    1    3    2    2   \n",
       "2    2    2    1    2    0    1    1    0    2    1  ...    3    0    0    0   \n",
       "3    3    0    0    3    3    2    2    2    0    3  ...    0    2    3    3   \n",
       "\n",
       "   194  195  196  197  198  199  \n",
       "0    0    1    2    0    2    1  \n",
       "1    3    2    1    3    1    2  \n",
       "2    1    0    0    1    0    0  \n",
       "3    2    3    3    2    3    3  \n",
       "\n",
       "[4 rows x 200 columns]"
      ]
     },
     "execution_count": 11,
     "metadata": {},
     "output_type": "execute_result"
    }
   ],
   "source": [
    "pd.DataFrame(classes_matching)"
   ]
  },
  {
   "cell_type": "code",
   "execution_count": 12,
   "id": "99476a3f",
   "metadata": {},
   "outputs": [],
   "source": [
    "# assigning new class numbers to the results\n",
    "yNew = np.empty((ntr+nte, N), dtype = np.int64)\n",
    "\n",
    "for i in range(N):    \n",
    "    for j in range(K):\n",
    "        ind = np.squeeze(np.nonzero(y[:, i] == j))\n",
    "        yNew[ind, i] = classes_matching[j, i]"
   ]
  },
  {
   "cell_type": "code",
   "execution_count": 13,
   "id": "f9cd9ba0",
   "metadata": {},
   "outputs": [],
   "source": [
    "# soft voting + likelihood (probability cutoff + weighted votes + removing small classes)\n",
    "def soft_vote(x, proba, nan = -99, minclass = 100):\n",
    "    # array with samples as rows and ensemble models as columns\n",
    "    \n",
    "    # maority voting for the whole array\n",
    "    x2 = np.empty((np.shape(x)[0]), dtype = np.int16)\n",
    "    like = np.empty((np.shape(x)[0]))\n",
    "    votes = []\n",
    "    \n",
    "    for i in range(np.shape(x)[0]):\n",
    "        mask = np.nonzero(x[i, :] == nan)        \n",
    "        classes = np.delete(x[i, :], mask) # removing empty and too weak votes\n",
    "        weights = np.delete(proba[i, :], mask)\n",
    "        votes.append(np.bincount(classes, weights = weights)) # number of votes for each class\n",
    "        \n",
    "        if len(votes[i]) == 0:\n",
    "            x2[i] = -1\n",
    "            like[i] = 0\n",
    "        else:\n",
    "            x2[i] = votes[i].argmax()       # class with the highest vote\n",
    "            like[i] = votes[i].max()/np.shape(x)[1] # how many voted for this class\n",
    "            \n",
    "    # check if some of the classes are too small - if yes, use the next best not-too-small class for the grid points\n",
    "    # that belong to the small classes\n",
    "    \n",
    "    # finding small classes\n",
    "    maxclass = np.max(x)\n",
    "    class_size = np.empty((maxclass+1), dtype = np.int32)\n",
    "    for i in range(maxclass + 1):\n",
    "        class_size[i] = len(np.nonzero(x2 == i)[0])\n",
    "        \n",
    "    # small classes\n",
    "    small_classes = np.nonzero(class_size <= minclass)[0]\n",
    "    \n",
    "    # finding a new class for each of the grid points belonging to a small class\n",
    "    for i in range(np.shape(x2)[0]):\n",
    "        if np.isin(x2[i], small_classes, assume_unique = True):     #x2[i] in small_classes:\n",
    "            # deleting the votes that blong to the small classes (temp = votes from only large enough classes)\n",
    "            temp = np.zeros((len(votes[i])), dtype = np.int16)\n",
    "            for k in range(len(temp)):\n",
    "                if not np.isin(k, small_classes, assume_unique = True):  # k not in small_classes:\n",
    "                    temp[k] = votes[i][k]\n",
    "            \n",
    "            # choosing the second best vote (or -1 if there are no other votes)\n",
    "            #print((i, x2[i]), end = ' -> ')\n",
    "            if np.any(temp):  # if any elements is not zero\n",
    "                x2[i] = temp.argmax()\n",
    "            else:\n",
    "                x2[i] = -1\n",
    "\n",
    "            like[i] = temp.max()/np.shape(x)[1]\n",
    "            \n",
    "    return [x2, like]"
   ]
  },
  {
   "cell_type": "code",
   "execution_count": 14,
   "id": "c243bc6d",
   "metadata": {
    "scrolled": false
   },
   "outputs": [],
   "source": [
    "# soft voting\n",
    "ySV, like = soft_vote(yNew, proba, nan = -99, minclass = minsize)"
   ]
  },
  {
   "cell_type": "code",
   "execution_count": 15,
   "id": "6a5b141d",
   "metadata": {},
   "outputs": [
    {
     "name": "stdout",
     "output_type": "stream",
     "text": [
      "class  0:     1190\n",
      "class  1:     4317\n",
      "class  2:     3651\n",
      "class  3:     1196\n"
     ]
    }
   ],
   "source": [
    "# how many grid points exist in each class\n",
    "points_per_class = np.empty((tot_class_num))\n",
    "for i in range(tot_class_num):\n",
    "    points_per_class[i] = len(np.squeeze(np.nonzero(ySV == i)))\n",
    "    print('class %2i: %8i' % (i, points_per_class[i]))"
   ]
  },
  {
   "cell_type": "code",
   "execution_count": 16,
   "id": "13e26d9b",
   "metadata": {},
   "outputs": [
    {
     "name": "stdout",
     "output_type": "stream",
     "text": [
      "Total number of classes:  4\n",
      "Final number of classes:  4\n"
     ]
    }
   ],
   "source": [
    "# dropping the empty classes\n",
    "classes = np.arange(tot_class_num)\n",
    "ind = np.squeeze(points_per_class > 0)\n",
    "classes = classes[ind]\n",
    "new_class_num = len(classes)\n",
    "classes_new = np.squeeze(classes_all[ind, :])\n",
    "class_means_new = [a for (a, m) in zip(class_means_new, ind) if m]\n",
    "print('Total number of classes: %2i' % tot_class_num)\n",
    "print('Final number of classes: %2i' % new_class_num)"
   ]
  },
  {
   "cell_type": "code",
   "execution_count": 17,
   "id": "0cac5a88",
   "metadata": {},
   "outputs": [],
   "source": [
    "# changing the class numbers to be from 1 to new_class_num (before the classes started at 0!)\n",
    "for i in range(new_class_num):\n",
    "    ySV[ySV == classes[i]] = i + 1001\n",
    "ySV = ySV - 1000"
   ]
  },
  {
   "cell_type": "code",
   "execution_count": 18,
   "id": "28114de4",
   "metadata": {},
   "outputs": [
    {
     "name": "stdout",
     "output_type": "stream",
     "text": [
      "class  1:     1190\n",
      "class  2:     4317\n",
      "class  3:     3651\n",
      "class  4:     1196\n"
     ]
    }
   ],
   "source": [
    "# how many grid points exist in each class\n",
    "points_per_class = np.empty((new_class_num))\n",
    "for i in range(new_class_num):\n",
    "    points_per_class[i] = len(np.squeeze(np.nonzero(ySV == i+1)))\n",
    "    print('class %2i: %8i' % (i+1, points_per_class[i]))"
   ]
  },
  {
   "cell_type": "code",
   "execution_count": 19,
   "id": "d9cae8b3",
   "metadata": {},
   "outputs": [
    {
     "name": "stdout",
     "output_type": "stream",
     "text": [
      "Execution time: 47.72014880180359 seconds\n"
     ]
    }
   ],
   "source": [
    "# timing ends here\n",
    "print('Execution time: %s seconds' % (time.time() - starttime))"
   ]
  },
  {
   "cell_type": "markdown",
   "id": "659dcba3",
   "metadata": {},
   "source": [
    "### Reshaping the results back to grid"
   ]
  },
  {
   "cell_type": "code",
   "execution_count": 20,
   "id": "5771f6ec",
   "metadata": {},
   "outputs": [],
   "source": [
    "# training vs test set mask\n",
    "mask_grid = np.nan * np.ones((nlat*nlon), dtype = np.int16)\n",
    "mask_grid[ind_ocean] = np.squeeze(training_mask)\n",
    "mask_grid = np.reshape(mask_grid, (nlat, nlon), 'C')"
   ]
  },
  {
   "cell_type": "code",
   "execution_count": 21,
   "id": "0b37ae32",
   "metadata": {},
   "outputs": [],
   "source": [
    "# ensemble results\n",
    "res_grid = np.nan * np.ones((nlat*nlon), dtype = np.int16)\n",
    "res_grid[ind_ocean] = np.squeeze(ySV)\n",
    "res_grid = np.reshape(res_grid, (nlat, nlon),'C')\n",
    "\n",
    "like_grid = np.nan * np.ones((nlat*nlon))\n",
    "like_grid[ind_ocean] = np.squeeze(like)\n",
    "like_grid = np.reshape(like_grid, (nlat, nlon), 'C')"
   ]
  },
  {
   "cell_type": "code",
   "execution_count": 22,
   "id": "34563c39",
   "metadata": {},
   "outputs": [],
   "source": [
    "# individual model results\n",
    "# also adding 1 to the classification to change class numbers from 0 to K-1 to 1 to K\n",
    "mod_grid = np.nan * np.ones((nlat*nlon, N), dtype = np.int16)\n",
    "mod_grid[ind_ocean] = y\n",
    "mod_grid = np.reshape(mod_grid, (nlat, nlon, N), 'C')\n",
    "mod_grid = mod_grid + 1\n",
    "\n",
    "proba_grid = np.nan * np.ones((nlat*nlon, N))\n",
    "proba_grid[ind_ocean] = proba\n",
    "proba_grid = np.reshape(proba_grid, (nlat, nlon, N), 'C')"
   ]
  },
  {
   "cell_type": "markdown",
   "id": "9df9a48f",
   "metadata": {},
   "source": [
    "### Save the results"
   ]
  },
  {
   "cell_type": "code",
   "execution_count": 23,
   "id": "22e17f09",
   "metadata": {},
   "outputs": [],
   "source": [
    "# ensemble results\n",
    "results = xr.Dataset(data_vars = {\"classification\" : ((\"longitude\", \"latitude\"), np.swapaxes(res_grid, 0, 1)), \\\n",
    "                                 \"likelihood\" : ((\"longitude\", \"latitude\"), np.swapaxes(like_grid, 0, 1)), \\\n",
    "                                 \"training_set\" : ((\"longitude\", \"latitude\"), np.swapaxes(mask_grid, 0, 1))}, \\\n",
    "                    coords = {\"longitude\" : lon, \"latitude\" : lat})\n",
    "results.to_netcdf(res + modelname + '.nc')\n",
    "\n",
    "\n",
    "# results for the individual models (model number is the 3rd dimension)\n",
    "results = xr.Dataset(data_vars = {\"classification\" : ((\"longitude\", \"latitude\", \"model\"), np.swapaxes(mod_grid, 0, 1)), \\\n",
    "                                 \"likelihood\" : ((\"longitude\", \"latitude\", \"model\"), np.swapaxes(proba_grid, 0, 1)), \\\n",
    "                                 \"training_set\" : ((\"longitude\", \"latitude\"), np.swapaxes(mask_grid, 0, 1))}, \\\n",
    "                    coords = {\"longitude\" : lon, \"latitude\": lat, \"model\" : range(1, N+1)})\n",
    "results.to_netcdf(res + modelname + '_individual.nc')\n",
    "\n",
    "# individual models class means\n",
    "np.save(res + modelname + '_class_means.npy', class_means, allow_pickle = False)"
   ]
  },
  {
   "cell_type": "markdown",
   "id": "90a1fb23",
   "metadata": {},
   "source": [
    "### Plotting the classification results"
   ]
  },
  {
   "cell_type": "code",
   "execution_count": 24,
   "id": "6446e5ad",
   "metadata": {},
   "outputs": [],
   "source": [
    "def plot_classification_results(x, y, c, p, filename, title = '', showfig = False):\n",
    "    # function plots classification on the left and probability/likelihood on the right\n",
    "    # it adds the figure title and saves the figure\n",
    "    # it works for up to 20 classes because of the colormap it uses\n",
    "    \n",
    "    # --- Number of classes ---\n",
    "    class_num = int(np.nanmax(c) - np.nanmin(c) + 1)\n",
    "    if (class_num > 20):\n",
    "        print(\"There are too many classes to plot with this function!\")\n",
    "        exit()\n",
    "    \n",
    "    # --- Colormaps ---\n",
    "    # creating a new colormap with class_num colors (2 colormaps are concatenated )\n",
    "    cmapc = cm.tab20b\n",
    "    cind = [x/20 for x in range(20)]\n",
    "    cmapn = []\n",
    "    for i in range(20):\n",
    "        cmapn.append(cmapc(cind[i]))\n",
    "    cmapn = cmapn[:class_num]\n",
    "    my_cmapc = ListedColormap(cmapn, name='cmapc')\n",
    "\n",
    "    # gradient colormap for the likelihood/probability\n",
    "    cmapg = cm.summer(np.linspace(0, 1, 10))\n",
    "    my_cmapg = ListedColormap(cmapg, name = 'cmapg')\n",
    "\n",
    "    \n",
    "    # --- Plotting ---\n",
    "    fig, ax = plt.subplots(1, 2, sharex = 'none')\n",
    "    fig.set_figwidth(11)\n",
    "    fig.set_figheight(5)\n",
    "    \n",
    "    # left plot: classification\n",
    "    fl = ax[0].pcolormesh(x, y, c, shading = 'nearest', cmap = my_cmapc, vmin = 1, vmax = class_num+1)\n",
    "\n",
    "    labels = list(range(1, class_num+1))\n",
    "    ticks = [a + 0.5 for a in labels]\n",
    "    cbl = plt.colorbar(fl, ax = ax[0], location = 'bottom', pad = 0.1, ticks = ticks)\n",
    "    cbl.ax.set_xticklabels(labels)\n",
    "    cbl.ax.tick_params(labelsize = 16)\n",
    "\n",
    "    # right plot: likelihood/probability\n",
    "    fr = ax[1].pcolormesh(x, y, p, shading = 'nearest', cmap = my_cmapg, vmin = 0, vmax = 1)\n",
    "\n",
    "    cbr = plt.colorbar(fr, ax = ax[1], location = 'bottom', pad = 0.1)\n",
    "    cbr.ax.tick_params(labelsize = 16)\n",
    "    \n",
    "    # --- Adding the title ---\n",
    "    fig.suptitle(title, fontsize = 16)\n",
    "\n",
    "    # --- Saving the figure ---\n",
    "    fig.savefig(filename)\n",
    "    if showfig == False:\n",
    "        plt.close()"
   ]
  },
  {
   "cell_type": "code",
   "execution_count": 25,
   "id": "147f820e",
   "metadata": {},
   "outputs": [
    {
     "data": {
      "image/png": "[encoded data removed]",
      "text/plain": [
       "<Figure size 1100x500 with 4 Axes>"
      ]
     },
     "metadata": {},
     "output_type": "display_data"
    }
   ],
   "source": [
    "# plotting the ensemble results\n",
    "figname = figens + modelname + '.png'\n",
    "figtitle = 'nPCs = ' + str(nPC) + ', K = ' + str(K) + ', ensemble ' + str(t)\n",
    "plot_classification_results(lon, lat, res_grid, like_grid, figname, figtitle, True)"
   ]
  },
  {
   "cell_type": "code",
   "execution_count": 26,
   "id": "17aa9edf",
   "metadata": {},
   "outputs": [],
   "source": [
    "# plotting the results of the individual models (10 only)\n",
    "for i in range(10):\n",
    "    figname = figind + modelname + '_' +str(i+1).zfill(2)\n",
    "    figtitle = 'nPCs = ' + str(nPC) + ', K = ' + str(K) + ', ensemble ' + str(t) + ', model ' + str(i+1)\n",
    "    plot_classification_results(lon, lat, mod_grid[:, :, i], proba_grid[:, :, i], figname, figtitle, False)"
   ]
  },
  {
   "cell_type": "code",
   "execution_count": null,
   "id": "5837e8ca",
   "metadata": {},
   "outputs": [],
   "source": []
  }
 ],
 "metadata": {
  "kernelspec": {
   "display_name": "Python 3 (ipykernel)",
   "language": "python",
   "name": "python3"
  },
  "language_info": {
   "codemirror_mode": {
    "name": "ipython",
    "version": 3
   },
   "file_extension": ".py",
   "mimetype": "text/x-python",
   "name": "python",
   "nbconvert_exporter": "python",
   "pygments_lexer": "ipython3",
   "version": "3.8.18"
  }
 },
 "nbformat": 4,
 "nbformat_minor": 5
}
